{
  "cells": [
    {
      "cell_type": "code",
      "execution_count": 30,
      "id": "c805950a",
      "metadata": {
        "id": "c805950a"
      },
      "outputs": [],
      "source": [
        "import sympy as sym\n",
        "sym.init_printing()\n",
        "%matplotlib inline"
      ]
    },
    {
      "cell_type": "markdown",
      "id": "192eebff",
      "metadata": {
        "id": "192eebff"
      },
      "source": [
        "**Ejercicio**\n",
        "\n",
        "\n",
        "![lowpass.PNG](https://github.com/miguelvc99/Se-ales_y_Sistemas/blob/main/figuras/lowpass2.png?raw=1)\n",
        "\n",
        "A partir de este circuito encuentre un modelo que relacione el voltaje de salida $y(t)$ con el voltaje de entrada $x(t)$.\n"
      ]
    },
    {
      "cell_type": "markdown",
      "id": "cc15dccb",
      "metadata": {
        "id": "cc15dccb"
      },
      "source": [
        "**Respuesta**\n",
        "\n",
        "Desarrolle sus procedimientos\n",
        "\n",
        "$$ v_{ca}(t) = v_{cb}(t)+v_{rb}(t) $$\n",
        "$$ x = v_{ra}(t) + v_{cb}(t)+v_{rb}(t) $$"
      ]
    },
    {
      "cell_type": "code",
      "execution_count": 33,
      "id": "61baf4ef",
      "metadata": {
        "id": "61baf4ef",
        "outputId": "75beae03-2abf-44d7-95fe-d729e0f67100",
        "colab": {
          "base_uri": "https://localhost:8080/",
          "height": 52
        }
      },
      "outputs": [
        {
          "output_type": "execute_result",
          "data": {
            "text/plain": [
              "     d               d                     \n",
              "C⋅Ra⋅──(y(t)) + C⋅Rb⋅──(y(t)) + y(t) = x(t)\n",
              "     dt              dt                    "
            ],
            "image/png": "[encoded data removed]",
            "text/latex": "$\\displaystyle C Ra \\frac{d}{d t} y{\\left(t \\right)} + C Rb \\frac{d}{d t} y{\\left(t \\right)} + y{\\left(t \\right)} = x{\\left(t \\right)}$"
          },
          "metadata": {},
          "execution_count": 33
        }
      ],
      "source": [
        "# relacion x(t) y y(t)\n",
        "t, Ra,Rb, Cb = sym.symbols('t Ra Rb Cb', real=True)\n",
        "x = sym.Function('x')(t)\n",
        "y = sym.Function('y')(t)\n",
        "\n",
        "relacion = sym.Eq(Cb*Ra*y.diff(t) + Cb*Rb*y.diff(t) + y, x)\n",
        "relacion\n"
      ]
    },
    {
      "cell_type": "markdown",
      "id": "d2c5cce7",
      "metadata": {
        "id": "d2c5cce7"
      },
      "source": [
        "Considerando que todas las resistencias son de $1 k\\Omega$ y las capacitancias son de $100\\mu F$:\n",
        "\n",
        "¿cómo se comporta $y(t)$ ante una entrada escalón de amplitud 2?"
      ]
    },
    {
      "cell_type": "code",
      "execution_count": 50,
      "id": "03cb4397",
      "metadata": {
        "id": "03cb4397",
        "outputId": "510223ec-9be5-41a4-c164-8070e1d93f86",
        "colab": {
          "base_uri": "https://localhost:8080/",
          "height": 47
        }
      },
      "outputs": [
        {
          "output_type": "execute_result",
          "data": {
            "text/plain": [
              "       ⎛       ⎛  t     ⎞     ⎞  -t \n",
              "       ⎜       ⎜ ───    ⎟     ⎟  ───\n",
              "       ⎜       ⎜ 200    ⎟     ⎟  200\n",
              "y(t) = ⎝C₁ + 2⋅⎝ℯ    - 1⎠⋅θ(t)⎠⋅ℯ   "
            ],
            "image/png": "[encoded data removed]",
            "text/latex": "$\\displaystyle y{\\left(t \\right)} = \\left(C_{1} + 2 \\left(e^{\\frac{t}{200}} - 1\\right) \\theta\\left(t\\right)\\right) e^{- \\frac{t}{200}}$"
          },
          "metadata": {},
          "execution_count": 50
        }
      ],
      "source": [
        "# comportamiento escalon amplitud 2\n",
        "Ra= 1\n",
        "Rb=1\n",
        "Cb=100\n",
        "step_A_2 = sym.Heaviside(t)*2\n",
        "x1 = sym.Function('x1')(t)\n",
        "remplazando_valores = sym.Eq(Ra*Cb*y.diff(t) + Rb*Cb*y.diff(t) + y, x1)\n",
        "comportamiento = sym.dsolve( remplazando_valores.subs(x1,step_A_2))\n",
        "comportamiento\n",
        "\n"
      ]
    },
    {
      "cell_type": "markdown",
      "id": "9efbf9ef",
      "metadata": {
        "id": "9efbf9ef"
      },
      "source": [
        "Escriba su análisis"
      ]
    },
    {
      "cell_type": "markdown",
      "id": "554e1d86",
      "metadata": {
        "id": "554e1d86"
      },
      "source": [
        "¿cómo se comporta $y(t)$ ante una entrada rampa?"
      ]
    },
    {
      "cell_type": "markdown",
      "id": "b1272395",
      "metadata": {
        "id": "b1272395"
      },
      "source": [
        "Considerando que $Ra = 1 k\\Omega$, $Rb = 0.5 k\\Omega$ $Ca = 50\\mu F$ y $Cb = 200\\mu F$:\n",
        "\n",
        "¿cómo se comporta $y(t)$ ante una entrada escalón unitario?"
      ]
    },
    {
      "cell_type": "code",
      "execution_count": 49,
      "id": "4e9c86a2",
      "metadata": {
        "id": "4e9c86a2",
        "outputId": "a441fe0d-dd6b-4b34-de17-359450e6aa83",
        "colab": {
          "base_uri": "https://localhost:8080/",
          "height": 38
        }
      },
      "outputs": [
        {
          "output_type": "execute_result",
          "data": {
            "text/plain": [
              "       ⎛                         ⎛       0.00333333333333333⋅t        ⎞     ⎞ \n",
              "y(t) = ⎝C₁ + 0.00333333333333333⋅⎝300.0⋅ℯ                      - 300.0⎠⋅θ(t)⎠⋅\n",
              "\n",
              " -0.00333333333333333⋅t\n",
              "ℯ                      "
            ],
            "image/png": "[encoded data removed]",
            "text/latex": "$\\displaystyle y{\\left(t \\right)} = \\left(C_{1} + 0.00333333333333333 \\left(300.0 e^{0.00333333333333333 t} - 300.0\\right) \\theta\\left(t\\right)\\right) e^{- 0.00333333333333333 t}$"
          },
          "metadata": {},
          "execution_count": 49
        }
      ],
      "source": [
        "# comportamiento escalon\n",
        "Ra= 1\n",
        "Rb=0.5\n",
        "Cb=200\n",
        "step = sym.Heaviside(t)\n",
        "x2 = sym.Function('x2')(t)\n",
        "remplazando_valores1 = sym.Eq(Ra*Cb*y.diff(t) + Rb*Cb*y.diff(t) + y, x2)\n",
        "comportamiento = sym.dsolve( remplazando_valores1.subs(x2,step))\n",
        "comportamiento\n"
      ]
    },
    {
      "cell_type": "markdown",
      "id": "6f5280df",
      "metadata": {
        "id": "6f5280df"
      },
      "source": [
        "Escriba su análisis"
      ]
    },
    {
      "cell_type": "markdown",
      "id": "61e64c78",
      "metadata": {
        "id": "61e64c78"
      },
      "source": [
        "Considerando que $Ra = 1 k\\Omega$, $Rb = 0.5 k\\Omega$ $Ca = 50\\mu F$ y $Cb = 200\\mu F$:\n",
        "\n",
        "¿cómo se comporta $y(t)$ ante una entrada escalón unitario?"
      ]
    },
    {
      "cell_type": "code",
      "execution_count": null,
      "id": "6f14350e",
      "metadata": {
        "id": "6f14350e"
      },
      "outputs": [],
      "source": [
        "# Celda para código"
      ]
    },
    {
      "cell_type": "markdown",
      "id": "fff189bb",
      "metadata": {
        "id": "fff189bb"
      },
      "source": [
        "Escriba su análisis"
      ]
    },
    {
      "cell_type": "markdown",
      "id": "ad1c8db7",
      "metadata": {
        "id": "ad1c8db7"
      },
      "source": [
        "¿cómo se comporta $y(t)$ ante una entrada rampa?"
      ]
    },
    {
      "cell_type": "code",
      "execution_count": 51,
      "id": "2307b948",
      "metadata": {
        "id": "2307b948",
        "outputId": "2d511137-cbd1-49cb-ae01-b152bda6696a",
        "colab": {
          "base_uri": "https://localhost:8080/",
          "height": 38
        }
      },
      "outputs": [
        {
          "output_type": "execute_result",
          "data": {
            "text/plain": [
              "       ⎛                         ⎛         0.00333333333333333⋅t            0.\n",
              "y(t) = ⎝C₁ + 0.00333333333333333⋅⎝300.0⋅t⋅ℯ                      - 90000.0⋅ℯ  \n",
              "\n",
              "00333333333333333⋅t          ⎞     ⎞  -0.00333333333333333⋅t\n",
              "                    + 90000.0⎠⋅θ(t)⎠⋅ℯ                      "
            ],
            "image/png": "[encoded data removed]",
            "text/latex": "$\\displaystyle y{\\left(t \\right)} = \\left(C_{1} + 0.00333333333333333 \\left(300.0 t e^{0.00333333333333333 t} - 90000.0 e^{0.00333333333333333 t} + 90000.0\\right) \\theta\\left(t\\right)\\right) e^{- 0.00333333333333333 t}$"
          },
          "metadata": {},
          "execution_count": 51
        }
      ],
      "source": [
        "# comportamiento rampa\n",
        "Ra= 1\n",
        "Rb=0.5\n",
        "Cb=200\n",
        "ramp = sym.Heaviside(t)*t\n",
        "x3 = sym.Function('x3')(t)\n",
        "remplazando_valores2 = sym.Eq(Ra*Cb*y.diff(t) + Rb*Cb*y.diff(t) + y, x3)\n",
        "comportamiento = sym.dsolve( remplazando_valores2.subs(x3,ramp))\n",
        "comportamiento"
      ]
    },
    {
      "cell_type": "markdown",
      "id": "3d6d3be2",
      "metadata": {
        "id": "3d6d3be2"
      },
      "source": [
        "Escriba su análisis"
      ]
    }
  ],
  "metadata": {
    "kernelspec": {
      "display_name": "Python 3",
      "language": "python",
      "name": "python3"
    },
    "language_info": {
      "codemirror_mode": {
        "name": "ipython",
        "version": 3
      },
      "file_extension": ".py",
      "mimetype": "text/x-python",
      "name": "python",
      "nbconvert_exporter": "python",
      "pygments_lexer": "ipython3",
      "version": "3.7.3"
    },
    "latex_envs": {
      "bibliofile": "biblio.bib",
      "cite_by": "apalike",
      "current_citInitial": 1,
      "eqLabelWithNumbers": true,
      "eqNumInitial": 0
    },
    "colab": {
      "name": "EjercicioCircuito.ipynb",
      "provenance": []
    }
  },
  "nbformat": 4,
  "nbformat_minor": 5
}